{
 "cells": [
  {
   "cell_type": "code",
   "execution_count": 19,
   "metadata": {
    "id": "Uduya7UBiFNd"
   },
   "outputs": [],
   "source": [
    "import pandas as pd\n",
    "import matplotlib.pyplot as plt\n",
    "import numpy as np"
   ]
  },
  {
   "cell_type": "code",
   "execution_count": 20,
   "metadata": {},
   "outputs": [
    {
     "name": "stdout",
     "output_type": "stream",
     "text": [
      "    movie_number  line_number        caster       incantation victim\n",
      "0              1          293    Ollivander            finite   None\n",
      "1              1          366  Mrs. Weasley              pack   None\n",
      "2              1          405           Ron              pack   None\n",
      "3              1          431      Hermione     oculus reparo   None\n",
      "4              1          614         Harry           unknown   None\n",
      "..           ...          ...           ...               ...    ...\n",
      "61             3         1555         HARRY  expecto patronum   None\n",
      "62             3         1562      HERMIONE          bombarda   None\n",
      "63             3         1602         HARRY              none   None\n",
      "64             3         1635         HARRY             lumos   None\n",
      "65             3         1638         HARRY               nox   None\n",
      "\n",
      "[66 rows x 5 columns]\n"
     ]
    }
   ],
   "source": [
    "# Load the spells data\n",
    "spells_df = pd.read_csv('spells.csv', sep=None, engine='python', encoding='utf-8-sig')\n",
    "spell_incantations = spells_df['Incantation'].dropna().str.strip().str.lower().tolist()\n",
    "\n",
    "# List of dialogue files, with movie numbers\n",
    "dialogue_files = {\n",
    "    'hp1.csv': 1,\n",
    "    'hp2.csv': 2,\n",
    "    'hp3.csv': 3\n",
    "}\n",
    "\n",
    "# List to gather all data for a combined DataFrame\n",
    "all_data = []\n",
    "\n",
    "# Process each dialogue file\n",
    "for file, movie_number in dialogue_files.items():\n",
    "    hp_dialogue_df = pd.read_csv(file, sep=None, engine='python', encoding='utf-8-sig')\n",
    "\n",
    "    # Process each line in the dialogue file\n",
    "    for index, row in hp_dialogue_df.iterrows():\n",
    "        line_number = index + 1  # Line number (1-indexed)\n",
    "        sentence = row['Sentence'].lower()  # Convert sentence to lowercase\n",
    "        caster = row['Character']  # Character speaking the line\n",
    "        \n",
    "        # Check if any known spell incantation is in the sentence\n",
    "        incantation = next((spell for spell in spell_incantations if spell in sentence), None)\n",
    "        \n",
    "        if incantation:\n",
    "            victim = None\n",
    "            if \" you \" in sentence:\n",
    "                victim = \"unspecified target\"\n",
    "            elif \"Hermione\" in sentence:\n",
    "                victim = \"Hermione\"\n",
    "            elif \"Harry\" in sentence:\n",
    "                victim = \"Harry\"\n",
    "            elif \"Ron\" in sentence:\n",
    "                victim = \"Ron\"\n",
    "            \n",
    "            # Append movie data with movie number\n",
    "            all_data.append((movie_number, line_number, caster, incantation, victim))\n",
    "\n",
    "# Create a single DataFrame with an additional 'movie_number' column\n",
    "combined_df = pd.DataFrame(all_data, columns=[\"movie_number\", \"line_number\", \"caster\", \"incantation\", \"victim\"])\n",
    "\n",
    "# Display the combined DataFrame\n",
    "print(combined_df)\n",
    "\n",
    "# Optionally, save to CSV\n",
    "combined_df.to_csv('Combined_Extracted_Spell_Data_With_Movie_Number.csv', index=False)\n"
   ]
  },
  {
   "cell_type": "code",
   "execution_count": 21,
   "metadata": {},
   "outputs": [],
   "source": [
    "#turn df to csv and download, uncomment to download what u want\n",
    "#df_og_version.to_csv(\"og_version.csv\", sep=',', encoding='utf-8')\n",
    "\n",
    "#df_taylors_version.to_csv(\"taylors_version.csv\", sep=',', encoding='utf-8')\n",
    "\n",
    "#df_top_5_all_albums_sorted.to_csv(\"top_5.csv\", sep=',', encoding='utf-8')\n",
    "\n",
    "#df_top_5_all_songs.to_csv(\"top_5_general.csv\", sep=',', encoding='utf-8')\n",
    "\n",
    "combined_df.to_csv(\"movies1_3.csv\", sep=',', encoding='utf-8')\n"
   ]
  },
  {
   "cell_type": "code",
   "execution_count": 23,
   "metadata": {},
   "outputs": [
    {
     "name": "stdout",
     "output_type": "stream",
     "text": [
      "     Chapter_ID  Dialogue_ID  Character_ID       Incantation  \\\n",
      "0             7          160            43            finite   \n",
      "1             9          186            26              pack   \n",
      "2            10          213             2              pack   \n",
      "3            10          226             3     oculus reparo   \n",
      "4            14          319             1           unknown   \n",
      "..          ...          ...           ...               ...   \n",
      "169         223         7161             1      expelliarmus   \n",
      "170         225         7273             6  expecto patronum   \n",
      "171         229         7321             4              none   \n",
      "172         231         7396             1         confringo   \n",
      "173         232         7406             1         confringo   \n",
      "\n",
      "                 Victim  \n",
      "0                  None  \n",
      "1                  None  \n",
      "2    unspecified target  \n",
      "3    unspecified target  \n",
      "4                   Ron  \n",
      "..                  ...  \n",
      "169                None  \n",
      "170                 Ron  \n",
      "171                None  \n",
      "172                None  \n",
      "173                None  \n",
      "\n",
      "[174 rows x 5 columns]\n"
     ]
    }
   ],
   "source": [
    "import pandas as pd\n",
    "\n",
    "# Load the spells data\n",
    "spells_df = pd.read_csv('spells.csv', sep=None, engine='python', encoding='utf-8-sig')\n",
    "spell_incantations = spells_df['Incantation'].dropna().str.strip().str.lower().tolist()\n",
    "\n",
    "# Load your single dialogue file\n",
    "dialogue_file_path = 'dialogue.csv'  # Replace with the correct file path\n",
    "dialogue_df = pd.read_csv(dialogue_file_path, sep=None, engine='python', encoding='utf-8-sig')\n",
    "\n",
    "# List to store all collected data\n",
    "all_data = []\n",
    "\n",
    "# Iterate over each row in the dialogue DataFrame\n",
    "for index, row in dialogue_df.iterrows():\n",
    "    line_number = row['Dialogue_ID']  # Get the dialogue ID\n",
    "    sentence = row['Dialogue'].lower()  # Convert the dialogue to lowercase\n",
    "    caster = row['Character_ID']  # The ID of the character speaking\n",
    "\n",
    "    # Check if any known spell incantation is present in the sentence\n",
    "    incantation = next((spell for spell in spell_incantations if spell in sentence), None)\n",
    "\n",
    "    if incantation:\n",
    "        # Identify potential victim based on keywords in the sentence\n",
    "        victim = None\n",
    "        if \" you \" in sentence:\n",
    "            victim = \"unspecified target\"\n",
    "        elif \"hermione\" in sentence:\n",
    "            victim = \"Hermione\"\n",
    "        elif \"harry\" in sentence:\n",
    "            victim = \"Harry\"\n",
    "        elif \"ron\" in sentence:\n",
    "            victim = \"Ron\"\n",
    "\n",
    "        # Append the collected data to the list\n",
    "        all_data.append((row['Chapter_ID'], line_number, caster, incantation, victim))\n",
    "\n",
    "# Create a DataFrame from the collected data\n",
    "combined_df = pd.DataFrame(all_data, columns=[\"Chapter_ID\", \"Dialogue_ID\", \"Character_ID\", \"Incantation\", \"Victim\"])\n",
    "\n",
    "# Display the combined DataFrame\n",
    "print(combined_df)\n"
   ]
  },
  {
   "cell_type": "code",
   "execution_count": 27,
   "metadata": {},
   "outputs": [
    {
     "name": "stdout",
     "output_type": "stream",
     "text": [
      "     Character_ID    Character_Name                Species  Gender  \\\n",
      "0               1      Harry Potter                  Human    Male   \n",
      "1               2       Ron Weasley                  Human    Male   \n",
      "2               3  Hermione Granger                  Human  Female   \n",
      "3               4  Albus Dumbledore                  Human    Male   \n",
      "4               5     Rubeus Hagrid  Half-Human/Half-Giant    Male   \n",
      "..            ...               ...                    ...     ...   \n",
      "161           162            Waiter                    NaN     NaN   \n",
      "162           163             Boy 2                    NaN     NaN   \n",
      "163           164             Crowd                    NaN     NaN   \n",
      "164           165       Gryffindors                    NaN     NaN   \n",
      "165           166        Professors                    NaN     NaN   \n",
      "\n",
      "          House              Patronus Wand (Wood)         Wand (Core)  \n",
      "0    Gryffindor                  Stag       Holly     Phoenix Feather  \n",
      "1    Gryffindor  Jack Russell Terrier         NaN                 NaN  \n",
      "2    Gryffindor                 Otter        Vine  Dragon Heartstring  \n",
      "3    Gryffindor               Phoenix       Elder  Thestral Tail Hair  \n",
      "4    Gryffindor                   NaN         Oak                 NaN  \n",
      "..          ...                   ...         ...                 ...  \n",
      "161         NaN                   NaN         NaN                 NaN  \n",
      "162         NaN                   NaN         NaN                 NaN  \n",
      "163         NaN                   NaN         NaN                 NaN  \n",
      "164         NaN                   NaN         NaN                 NaN  \n",
      "165         NaN                   NaN         NaN                 NaN  \n",
      "\n",
      "[166 rows x 8 columns]\n"
     ]
    }
   ],
   "source": [
    "# Load the character data\n",
    "character_file_path = 'characters.csv'  # Replace with the correct file path\n",
    "character_df = pd.read_csv(character_file_path, sep=None, engine='python', encoding='utf-8-sig')\n",
    "\n",
    "print(character_df)"
   ]
  },
  {
   "cell_type": "code",
   "execution_count": null,
   "metadata": {},
   "outputs": [
    {
     "ename": "KeyError",
     "evalue": "'Character_ID'",
     "output_type": "error",
     "traceback": [
      "\u001b[0;31m---------------------------------------------------------------------------\u001b[0m",
      "\u001b[0;31mKeyError\u001b[0m                                  Traceback (most recent call last)",
      "\u001b[0;32m<ipython-input-32-0a0da6d53de6>\u001b[0m in \u001b[0;36m<module>\u001b[0;34m\u001b[0m\n\u001b[1;32m      1\u001b[0m \u001b[0;31m# Merge combined_df with character_df to add Character_Name and House\u001b[0m\u001b[0;34m\u001b[0m\u001b[0;34m\u001b[0m\u001b[0;34m\u001b[0m\u001b[0m\n\u001b[0;32m----> 2\u001b[0;31m combined_df = combined_df.merge(\n\u001b[0m\u001b[1;32m      3\u001b[0m     \u001b[0mcharacter_df\u001b[0m\u001b[0;34m[\u001b[0m\u001b[0;34m[\u001b[0m\u001b[0;34m'Character_ID'\u001b[0m\u001b[0;34m,\u001b[0m \u001b[0;34m'Character_Name'\u001b[0m\u001b[0;34m,\u001b[0m \u001b[0;34m'House'\u001b[0m\u001b[0;34m]\u001b[0m\u001b[0;34m]\u001b[0m\u001b[0;34m,\u001b[0m\u001b[0;34m\u001b[0m\u001b[0;34m\u001b[0m\u001b[0m\n\u001b[1;32m      4\u001b[0m     \u001b[0mleft_on\u001b[0m\u001b[0;34m=\u001b[0m\u001b[0;34m'Character_ID'\u001b[0m\u001b[0;34m,\u001b[0m\u001b[0;34m\u001b[0m\u001b[0;34m\u001b[0m\u001b[0m\n\u001b[1;32m      5\u001b[0m     \u001b[0mright_on\u001b[0m\u001b[0;34m=\u001b[0m\u001b[0;34m'Character_ID'\u001b[0m\u001b[0;34m,\u001b[0m\u001b[0;34m\u001b[0m\u001b[0;34m\u001b[0m\u001b[0m\n",
      "\u001b[0;32m/Applications/anaconda3/lib/python3.8/site-packages/pandas/core/frame.py\u001b[0m in \u001b[0;36mmerge\u001b[0;34m(self, right, how, on, left_on, right_on, left_index, right_index, sort, suffixes, copy, indicator, validate)\u001b[0m\n\u001b[1;32m   8193\u001b[0m         \u001b[0;32mfrom\u001b[0m \u001b[0mpandas\u001b[0m\u001b[0;34m.\u001b[0m\u001b[0mcore\u001b[0m\u001b[0;34m.\u001b[0m\u001b[0mreshape\u001b[0m\u001b[0;34m.\u001b[0m\u001b[0mmerge\u001b[0m \u001b[0;32mimport\u001b[0m \u001b[0mmerge\u001b[0m\u001b[0;34m\u001b[0m\u001b[0;34m\u001b[0m\u001b[0m\n\u001b[1;32m   8194\u001b[0m \u001b[0;34m\u001b[0m\u001b[0m\n\u001b[0;32m-> 8195\u001b[0;31m         return merge(\n\u001b[0m\u001b[1;32m   8196\u001b[0m             \u001b[0mself\u001b[0m\u001b[0;34m,\u001b[0m\u001b[0;34m\u001b[0m\u001b[0;34m\u001b[0m\u001b[0m\n\u001b[1;32m   8197\u001b[0m             \u001b[0mright\u001b[0m\u001b[0;34m,\u001b[0m\u001b[0;34m\u001b[0m\u001b[0;34m\u001b[0m\u001b[0m\n",
      "\u001b[0;32m/Applications/anaconda3/lib/python3.8/site-packages/pandas/core/reshape/merge.py\u001b[0m in \u001b[0;36mmerge\u001b[0;34m(left, right, how, on, left_on, right_on, left_index, right_index, sort, suffixes, copy, indicator, validate)\u001b[0m\n\u001b[1;32m     72\u001b[0m     \u001b[0mvalidate\u001b[0m\u001b[0;34m=\u001b[0m\u001b[0;32mNone\u001b[0m\u001b[0;34m,\u001b[0m\u001b[0;34m\u001b[0m\u001b[0;34m\u001b[0m\u001b[0m\n\u001b[1;32m     73\u001b[0m ) -> \"DataFrame\":\n\u001b[0;32m---> 74\u001b[0;31m     op = _MergeOperation(\n\u001b[0m\u001b[1;32m     75\u001b[0m         \u001b[0mleft\u001b[0m\u001b[0;34m,\u001b[0m\u001b[0;34m\u001b[0m\u001b[0;34m\u001b[0m\u001b[0m\n\u001b[1;32m     76\u001b[0m         \u001b[0mright\u001b[0m\u001b[0;34m,\u001b[0m\u001b[0;34m\u001b[0m\u001b[0;34m\u001b[0m\u001b[0m\n",
      "\u001b[0;32m/Applications/anaconda3/lib/python3.8/site-packages/pandas/core/reshape/merge.py\u001b[0m in \u001b[0;36m__init__\u001b[0;34m(self, left, right, how, on, left_on, right_on, axis, left_index, right_index, sort, suffixes, copy, indicator, validate)\u001b[0m\n\u001b[1;32m    666\u001b[0m             \u001b[0mself\u001b[0m\u001b[0;34m.\u001b[0m\u001b[0mright_join_keys\u001b[0m\u001b[0;34m,\u001b[0m\u001b[0;34m\u001b[0m\u001b[0;34m\u001b[0m\u001b[0m\n\u001b[1;32m    667\u001b[0m             \u001b[0mself\u001b[0m\u001b[0;34m.\u001b[0m\u001b[0mjoin_names\u001b[0m\u001b[0;34m,\u001b[0m\u001b[0;34m\u001b[0m\u001b[0;34m\u001b[0m\u001b[0m\n\u001b[0;32m--> 668\u001b[0;31m         ) = self._get_merge_keys()\n\u001b[0m\u001b[1;32m    669\u001b[0m \u001b[0;34m\u001b[0m\u001b[0m\n\u001b[1;32m    670\u001b[0m         \u001b[0;31m# validate the merge keys dtypes. We may need to coerce\u001b[0m\u001b[0;34m\u001b[0m\u001b[0;34m\u001b[0m\u001b[0;34m\u001b[0m\u001b[0m\n",
      "\u001b[0;32m/Applications/anaconda3/lib/python3.8/site-packages/pandas/core/reshape/merge.py\u001b[0m in \u001b[0;36m_get_merge_keys\u001b[0;34m(self)\u001b[0m\n\u001b[1;32m   1044\u001b[0m                         \u001b[0mright_keys\u001b[0m\u001b[0;34m.\u001b[0m\u001b[0mappend\u001b[0m\u001b[0;34m(\u001b[0m\u001b[0mrk\u001b[0m\u001b[0;34m)\u001b[0m\u001b[0;34m\u001b[0m\u001b[0;34m\u001b[0m\u001b[0m\n\u001b[1;32m   1045\u001b[0m                     \u001b[0;32mif\u001b[0m \u001b[0mlk\u001b[0m \u001b[0;32mis\u001b[0m \u001b[0;32mnot\u001b[0m \u001b[0;32mNone\u001b[0m\u001b[0;34m:\u001b[0m\u001b[0;34m\u001b[0m\u001b[0;34m\u001b[0m\u001b[0m\n\u001b[0;32m-> 1046\u001b[0;31m                         \u001b[0mleft_keys\u001b[0m\u001b[0;34m.\u001b[0m\u001b[0mappend\u001b[0m\u001b[0;34m(\u001b[0m\u001b[0mleft\u001b[0m\u001b[0;34m.\u001b[0m\u001b[0m_get_label_or_level_values\u001b[0m\u001b[0;34m(\u001b[0m\u001b[0mlk\u001b[0m\u001b[0;34m)\u001b[0m\u001b[0;34m)\u001b[0m\u001b[0;34m\u001b[0m\u001b[0;34m\u001b[0m\u001b[0m\n\u001b[0m\u001b[1;32m   1047\u001b[0m                         \u001b[0mjoin_names\u001b[0m\u001b[0;34m.\u001b[0m\u001b[0mappend\u001b[0m\u001b[0;34m(\u001b[0m\u001b[0mlk\u001b[0m\u001b[0;34m)\u001b[0m\u001b[0;34m\u001b[0m\u001b[0;34m\u001b[0m\u001b[0m\n\u001b[1;32m   1048\u001b[0m                     \u001b[0;32melse\u001b[0m\u001b[0;34m:\u001b[0m\u001b[0;34m\u001b[0m\u001b[0;34m\u001b[0m\u001b[0m\n",
      "\u001b[0;32m/Applications/anaconda3/lib/python3.8/site-packages/pandas/core/generic.py\u001b[0m in \u001b[0;36m_get_label_or_level_values\u001b[0;34m(self, key, axis)\u001b[0m\n\u001b[1;32m   1682\u001b[0m             \u001b[0mvalues\u001b[0m \u001b[0;34m=\u001b[0m \u001b[0mself\u001b[0m\u001b[0;34m.\u001b[0m\u001b[0maxes\u001b[0m\u001b[0;34m[\u001b[0m\u001b[0maxis\u001b[0m\u001b[0;34m]\u001b[0m\u001b[0;34m.\u001b[0m\u001b[0mget_level_values\u001b[0m\u001b[0;34m(\u001b[0m\u001b[0mkey\u001b[0m\u001b[0;34m)\u001b[0m\u001b[0;34m.\u001b[0m\u001b[0m_values\u001b[0m\u001b[0;34m\u001b[0m\u001b[0;34m\u001b[0m\u001b[0m\n\u001b[1;32m   1683\u001b[0m         \u001b[0;32melse\u001b[0m\u001b[0;34m:\u001b[0m\u001b[0;34m\u001b[0m\u001b[0;34m\u001b[0m\u001b[0m\n\u001b[0;32m-> 1684\u001b[0;31m             \u001b[0;32mraise\u001b[0m \u001b[0mKeyError\u001b[0m\u001b[0;34m(\u001b[0m\u001b[0mkey\u001b[0m\u001b[0;34m)\u001b[0m\u001b[0;34m\u001b[0m\u001b[0;34m\u001b[0m\u001b[0m\n\u001b[0m\u001b[1;32m   1685\u001b[0m \u001b[0;34m\u001b[0m\u001b[0m\n\u001b[1;32m   1686\u001b[0m         \u001b[0;31m# Check for duplicates\u001b[0m\u001b[0;34m\u001b[0m\u001b[0;34m\u001b[0m\u001b[0;34m\u001b[0m\u001b[0m\n",
      "\u001b[0;31mKeyError\u001b[0m: 'Character_ID'"
     ]
    }
   ],
   "source": [
    "\n",
    "# Merge combined_df with character_df to add Character_Name and House\n",
    "combined_df = combined_df.merge(\n",
    "    character_df[['Character_ID', 'Character_Name', 'House']],\n",
    "    left_on='Character_ID',\n",
    "    right_on='Character_ID',\n",
    "    how='left'\n",
    ")\n",
    "\n",
    "# Drop the redundant 'Character ID' column from the character data\n",
    "combined_df.drop(columns=['Character_ID'], inplace=True)\n",
    "\n",
    "# Rename columns for clarity\n",
    "combined_df.rename(columns={'Character_Name': 'Caster'}, inplace=True)\n",
    "\n",
    "\n",
    "# Display the updated combined DataFrame\n",
    "print(combined_df)"
   ]
  },
  {
   "cell_type": "code",
   "execution_count": null,
   "metadata": {},
   "outputs": [],
   "source": [
    "combined_df = combined_df[combined_df['Incantation'] != 'unknown']\n",
    "combined_df = combined_df[combined_df['Incantation'] != 'none']\n",
    "\n"
   ]
  },
  {
   "cell_type": "code",
   "execution_count": 31,
   "metadata": {},
   "outputs": [
    {
     "name": "stdout",
     "output_type": "stream",
     "text": [
      "                 Caster  Spell_Count\n",
      "16         Harry Potter           53\n",
      "17     Hermione Granger           34\n",
      "29          Ron Weasley           13\n",
      "32        Severus Snape            7\n",
      "27          Remus Lupin            7\n",
      "1      Albus Dumbledore            7\n",
      "24   Neville Longbottom            6\n",
      "12    Gilderoy Lockhart            4\n",
      "35            Voldemort            3\n",
      "6          Draco Malfoy            3\n",
      "8          Fred Weasley            3\n",
      "33         Sirius Black            2\n",
      "30        Rubeus Hagrid            2\n",
      "20        Luna Lovegood            2\n",
      "18         James Potter            2\n",
      "2                   All            2\n",
      "10       George Weasley            2\n",
      "4   Bellatrix Lestrange            2\n",
      "5      Dolores Umbridge            2\n",
      "7       Filius Flitwick            2\n",
      "15                Guard            1\n",
      "26           Professors            1\n",
      "34           Tom Riddle            1\n",
      "3        Arthur Weasley            1\n",
      "31     Rufus Scrimgeour            1\n",
      "28        Rolanda Hooch            1\n",
      "25        Parvati Patil            1\n",
      "14        Gregory Goyle            1\n",
      "9    Garrick Ollivander            1\n",
      "23         Mrs. Granger            1\n",
      "22        Molly Weasley            1\n",
      "21   Minerva McGonagall            1\n",
      "19               Leanne            1\n",
      "11               Ghosts            1\n",
      "13        Ginny Weasley            1\n",
      "0         Alastor Moody            1\n"
     ]
    }
   ],
   "source": [
    "# Group by Character_Name and count the number of spells cast\n",
    "spell_counts = combined_df.groupby('Caster').size().reset_index(name='Spell_Count')\n",
    "\n",
    "# Sort the results in descending order of Spell_Count\n",
    "spell_counts = spell_counts.sort_values(by='Spell_Count', ascending=False)\n",
    "\n",
    "# Display the grouped and sorted DataFrame\n",
    "print(spell_counts)"
   ]
  }
 ],
 "metadata": {
  "colab": {
   "provenance": []
  },
  "kernelspec": {
   "display_name": "base",
   "language": "python",
   "name": "python3"
  },
  "language_info": {
   "codemirror_mode": {
    "name": "ipython",
    "version": 3
   },
   "file_extension": ".py",
   "mimetype": "text/x-python",
   "name": "python",
   "nbconvert_exporter": "python",
   "pygments_lexer": "ipython3",
   "version": "3.8.8"
  }
 },
 "nbformat": 4,
 "nbformat_minor": 1
}
