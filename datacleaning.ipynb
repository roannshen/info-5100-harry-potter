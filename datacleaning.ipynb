{
 "cells": [
  {
   "cell_type": "code",
   "execution_count": 1,
   "metadata": {
    "id": "Uduya7UBiFNd"
   },
   "outputs": [],
   "source": [
    "import pandas as pd\n",
    "import matplotlib.pyplot as plt\n",
    "import numpy as np"
   ]
  },
  {
   "cell_type": "code",
   "execution_count": 5,
   "metadata": {},
   "outputs": [
    {
     "name": "stdout",
     "output_type": "stream",
     "text": [
      "    movie_number  line_number        caster       incantation victim\n",
      "0              1          293    Ollivander            finite   None\n",
      "1              1          366  Mrs. Weasley              pack   None\n",
      "2              1          405           Ron              pack   None\n",
      "3              1          431      Hermione     oculus reparo   None\n",
      "4              1          614         Harry           unknown   None\n",
      "..           ...          ...           ...               ...    ...\n",
      "61             3         1555         HARRY  expecto patronum   None\n",
      "62             3         1562      HERMIONE          bombarda   None\n",
      "63             3         1602         HARRY              none   None\n",
      "64             3         1635         HARRY             lumos   None\n",
      "65             3         1638         HARRY               nox   None\n",
      "\n",
      "[66 rows x 5 columns]\n"
     ]
    }
   ],
   "source": [
    "# Load the spells data\n",
    "spells_df = pd.read_csv('spells.csv', sep=None, engine='python', encoding='utf-8-sig')\n",
    "spell_incantations = spells_df['Incantation'].dropna().str.strip().str.lower().tolist()\n",
    "\n",
    "# List of dialogue files, with movie numbers\n",
    "dialogue_files = {\n",
    "    'hp1.csv': 1,\n",
    "    'hp2.csv': 2,\n",
    "    'hp3.csv': 3\n",
    "}\n",
    "\n",
    "# List to gather all data for a combined DataFrame\n",
    "all_data = []\n",
    "\n",
    "# Process each dialogue file\n",
    "for file, movie_number in dialogue_files.items():\n",
    "    hp_dialogue_df = pd.read_csv(file, sep=None, engine='python', encoding='utf-8-sig')\n",
    "\n",
    "    # Process each line in the dialogue file\n",
    "    for index, row in hp_dialogue_df.iterrows():\n",
    "        line_number = index + 1  # Line number (1-indexed)\n",
    "        sentence = row['Sentence'].lower()  # Convert sentence to lowercase\n",
    "        caster = row['Character']  # Character speaking the line\n",
    "        \n",
    "        # Check if any known spell incantation is in the sentence\n",
    "        incantation = next((spell for spell in spell_incantations if spell in sentence), None)\n",
    "        \n",
    "        if incantation:\n",
    "            victim = None\n",
    "            if \" you \" in sentence:\n",
    "                victim = \"unspecified target\"\n",
    "            elif \"Hermione\" in sentence:\n",
    "                victim = \"Hermione\"\n",
    "            elif \"Harry\" in sentence:\n",
    "                victim = \"Harry\"\n",
    "            elif \"Ron\" in sentence:\n",
    "                victim = \"Ron\"\n",
    "            \n",
    "            # Append movie data with movie number\n",
    "            all_data.append((movie_number, line_number, caster, incantation, victim))\n",
    "\n",
    "# Create a single DataFrame with an additional 'movie_number' column\n",
    "combined_df = pd.DataFrame(all_data, columns=[\"movie_number\", \"line_number\", \"caster\", \"incantation\", \"victim\"])\n",
    "\n",
    "# Display the combined DataFrame\n",
    "print(combined_df)\n",
    "\n",
    "# Optionally, save to CSV\n",
    "combined_df.to_csv('Combined_Extracted_Spell_Data_With_Movie_Number.csv', index=False)\n"
   ]
  },
  {
   "cell_type": "code",
   "execution_count": 6,
   "metadata": {},
   "outputs": [],
   "source": [
    "#turn df to csv and download, uncomment to download what u want\n",
    "#df_og_version.to_csv(\"og_version.csv\", sep=',', encoding='utf-8')\n",
    "\n",
    "#df_taylors_version.to_csv(\"taylors_version.csv\", sep=',', encoding='utf-8')\n",
    "\n",
    "#df_top_5_all_albums_sorted.to_csv(\"top_5.csv\", sep=',', encoding='utf-8')\n",
    "\n",
    "#df_top_5_all_songs.to_csv(\"top_5_general.csv\", sep=',', encoding='utf-8')\n",
    "\n",
    "combined_df.to_csv(\"movies1_3.csv\", sep=',', encoding='utf-8')\n"
   ]
  },
  {
   "cell_type": "code",
   "execution_count": null,
   "metadata": {},
   "outputs": [],
   "source": []
  }
 ],
 "metadata": {
  "colab": {
   "provenance": []
  },
  "kernelspec": {
   "display_name": "base",
   "language": "python",
   "name": "python3"
  },
  "language_info": {
   "codemirror_mode": {
    "name": "ipython",
    "version": 3
   },
   "file_extension": ".py",
   "mimetype": "text/x-python",
   "name": "python",
   "nbconvert_exporter": "python",
   "pygments_lexer": "ipython3",
   "version": "3.8.8"
  }
 },
 "nbformat": 4,
 "nbformat_minor": 1
}
